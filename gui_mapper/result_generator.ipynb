{
 "cells": [
  {
   "cell_type": "markdown",
   "metadata": {},
   "source": [
    "# Result Generator"
   ]
  },
  {
   "cell_type": "code",
   "execution_count": 1,
   "metadata": {
    "pycharm": {
     "is_executing": false
    }
   },
   "outputs": [],
   "source": [
    "import pandas as pd\n",
    "import numpy as np\n",
    "import glob, os\n",
    "import json\n",
    "import copy\n",
    "import math\n",
    "from pandas.io.parsers import read_csv"
   ]
  },
  {
   "cell_type": "code",
   "execution_count": 4,
   "metadata": {
    "pycharm": {
     "is_executing": false
    }
   },
   "outputs": [
    {
     "data": {
      "text/plain": "                                               method  \\\n0   <newsrepublic.RepresentativeTests: void testSe...   \n1   <newsrepublic.RepresentativeTests: void testDe...   \n2   <newsrepublic.RepresentativeTests: void testAd...   \n3   <newsrepublic.RepresentativeTests: void testRe...   \n4   <newsrepublic.RepresentativeTests: void testAc...   \n..                                                ...   \n4      <abc.RepresentativeTests: void testTextSize()>   \n5      <abc.RepresentativeTests: void testCategory()>   \n6       <abc.RepresentativeTests: void testContact()>   \n7          <abc.RepresentativeTests: void testMenu()>   \n8         <abc.RepresentativeTests: void testTerms()>   \n\n                                          event_array        source  \\\n0   [{'input': None, 'id_or_xpath': 'id@jp.gocro.s...  newsrepublic   \n1   [{'input': None, 'id_or_xpath': 'id@jp.gocro.s...  newsrepublic   \n2   [{'input': None, 'id_or_xpath': 'id@jp.gocro.s...  newsrepublic   \n3   [{'input': None, 'id_or_xpath': 'id@jp.gocro.s...  newsrepublic   \n4   [{'input': None, 'id_or_xpath': 'NONE', 'actio...  newsrepublic   \n..                                                ...           ...   \n4   [{'input': None, 'id_or_xpath': 'id@com.thomso...           abc   \n5   [{'input': None, 'id_or_xpath': 'id@com.thomso...           abc   \n6   [{'input': None, 'id_or_xpath': 'xpath@//andro...           abc   \n7   [{'input': None, 'id_or_xpath': 'id@com.thomso...           abc   \n8   [{'input': None, 'id_or_xpath': 'xpath@//andro...           abc   \n\n       target gui_mapper  \n0   smartnews    perfect  \n1   smartnews    perfect  \n2   smartnews    perfect  \n3   smartnews    perfect  \n4   smartnews    perfect  \n..        ...        ...  \n4     reuters      naive  \n5     reuters      naive  \n6     reuters      naive  \n7     reuters      naive  \n8     reuters      naive  \n\n[3060 rows x 5 columns]",
      "text/html": "<div>\n<style scoped>\n    .dataframe tbody tr th:only-of-type {\n        vertical-align: middle;\n    }\n\n    .dataframe tbody tr th {\n        vertical-align: top;\n    }\n\n    .dataframe thead th {\n        text-align: right;\n    }\n</style>\n<table border=\"1\" class=\"dataframe\">\n  <thead>\n    <tr style=\"text-align: right;\">\n      <th></th>\n      <th>method</th>\n      <th>event_array</th>\n      <th>source</th>\n      <th>target</th>\n      <th>gui_mapper</th>\n    </tr>\n  </thead>\n  <tbody>\n    <tr>\n      <th>0</th>\n      <td>&lt;newsrepublic.RepresentativeTests: void testSe...</td>\n      <td>[{'input': None, 'id_or_xpath': 'id@jp.gocro.s...</td>\n      <td>newsrepublic</td>\n      <td>smartnews</td>\n      <td>perfect</td>\n    </tr>\n    <tr>\n      <th>1</th>\n      <td>&lt;newsrepublic.RepresentativeTests: void testDe...</td>\n      <td>[{'input': None, 'id_or_xpath': 'id@jp.gocro.s...</td>\n      <td>newsrepublic</td>\n      <td>smartnews</td>\n      <td>perfect</td>\n    </tr>\n    <tr>\n      <th>2</th>\n      <td>&lt;newsrepublic.RepresentativeTests: void testAd...</td>\n      <td>[{'input': None, 'id_or_xpath': 'id@jp.gocro.s...</td>\n      <td>newsrepublic</td>\n      <td>smartnews</td>\n      <td>perfect</td>\n    </tr>\n    <tr>\n      <th>3</th>\n      <td>&lt;newsrepublic.RepresentativeTests: void testRe...</td>\n      <td>[{'input': None, 'id_or_xpath': 'id@jp.gocro.s...</td>\n      <td>newsrepublic</td>\n      <td>smartnews</td>\n      <td>perfect</td>\n    </tr>\n    <tr>\n      <th>4</th>\n      <td>&lt;newsrepublic.RepresentativeTests: void testAc...</td>\n      <td>[{'input': None, 'id_or_xpath': 'NONE', 'actio...</td>\n      <td>newsrepublic</td>\n      <td>smartnews</td>\n      <td>perfect</td>\n    </tr>\n    <tr>\n      <th>...</th>\n      <td>...</td>\n      <td>...</td>\n      <td>...</td>\n      <td>...</td>\n      <td>...</td>\n    </tr>\n    <tr>\n      <th>4</th>\n      <td>&lt;abc.RepresentativeTests: void testTextSize()&gt;</td>\n      <td>[{'input': None, 'id_or_xpath': 'id@com.thomso...</td>\n      <td>abc</td>\n      <td>reuters</td>\n      <td>naive</td>\n    </tr>\n    <tr>\n      <th>5</th>\n      <td>&lt;abc.RepresentativeTests: void testCategory()&gt;</td>\n      <td>[{'input': None, 'id_or_xpath': 'id@com.thomso...</td>\n      <td>abc</td>\n      <td>reuters</td>\n      <td>naive</td>\n    </tr>\n    <tr>\n      <th>6</th>\n      <td>&lt;abc.RepresentativeTests: void testContact()&gt;</td>\n      <td>[{'input': None, 'id_or_xpath': 'xpath@//andro...</td>\n      <td>abc</td>\n      <td>reuters</td>\n      <td>naive</td>\n    </tr>\n    <tr>\n      <th>7</th>\n      <td>&lt;abc.RepresentativeTests: void testMenu()&gt;</td>\n      <td>[{'input': None, 'id_or_xpath': 'id@com.thomso...</td>\n      <td>abc</td>\n      <td>reuters</td>\n      <td>naive</td>\n    </tr>\n    <tr>\n      <th>8</th>\n      <td>&lt;abc.RepresentativeTests: void testTerms()&gt;</td>\n      <td>[{'input': None, 'id_or_xpath': 'xpath@//andro...</td>\n      <td>abc</td>\n      <td>reuters</td>\n      <td>naive</td>\n    </tr>\n  </tbody>\n</table>\n<p>3060 rows × 5 columns</p>\n</div>"
     },
     "metadata": {},
     "output_type": "execute_result",
     "execution_count": 4
    }
   ],
   "source": [
    "perfect_csv = []\n",
    "for path in glob.glob(\"/Users/yixue/Documents/Research/FrUITeR/Results/perfect/mapping_results_news/*.csv\"):\n",
    "    csv = read_csv(path)\n",
    "    apps = os.path.splitext(os.path.basename(path))[0].split(\"_\")\n",
    "    csv['source'] = csv.apply(lambda x: apps[0], axis=1)\n",
    "    csv['target'] = csv.apply(lambda x: apps[1], axis=1)\n",
    "    csv['gui_mapper'] = csv.apply(lambda x: \"perfect\", axis=1)\n",
    "    perfect_csv.append(csv)\n",
    "combined_csv = pd.concat(perfect_csv)\n",
    "\n",
    "appflow_csv = []\n",
    "for path in glob.glob(\"/Users/yixue/Documents/Research/FrUITeR/Results/appflow/mapping_results_news/*.csv\"):\n",
    "    csv = read_csv(path)\n",
    "    apps = os.path.splitext(os.path.basename(path))[0].split(\"_\")\n",
    "    csv['source'] = csv.apply(lambda x: apps[0], axis=1)\n",
    "    csv['target'] = csv.apply(lambda x: apps[1], axis=1)\n",
    "    csv['gui_mapper'] = csv.apply(lambda x: \"appflow\", axis=1)\n",
    "    appflow_csv.append(csv)\n",
    "combined_csv = combined_csv.append(appflow_csv)\n",
    "\n",
    "# craftdroid_csv = []\n",
    "# for path in glob.glob(\"/Users/yixue/Documents/Research/FrUITeR/Results/craftdroid/mapping_results/*.csv\"):\n",
    "#     csv = read_csv(path)\n",
    "#     apps = os.path.splitext(os.path.basename(path))[0].split(\"_\")\n",
    "#     csv['source'] = csv.apply(lambda x: apps[0], axis=1)\n",
    "#     csv['target'] = csv.apply(lambda x: apps[1], axis=1)\n",
    "#     csv['gui_mapper'] = csv.apply(lambda x: \"craftdroid\", axis=1)\n",
    "#     craftdroid_csv.append(csv)\n",
    "# combined_csv is based on the mapping results, i.e., transferred tests\n",
    "# combined_csv = combined_csv.append(craftdroid_csv)\n",
    "\n",
    "# for i in range(10):\n",
    "naive_csv = []\n",
    "filename = \"/Users/yixue/Documents/Research/FrUITeR/Results/naive/mapping_results_news/*.csv\"\n",
    "for path in glob.glob(filename):\n",
    "    csv = read_csv(path)\n",
    "    apps = os.path.splitext(os.path.basename(path))[0].split(\"_\")\n",
    "    csv['source'] = csv.apply(lambda x: apps[0], axis=1)\n",
    "    csv['target'] = csv.apply(lambda x: apps[1], axis=1)\n",
    "    csv['gui_mapper'] = csv.apply(lambda x: \"naive\", axis=1)\n",
    "    naive_csv.append(csv)\n",
    "combined_csv = combined_csv.append(naive_csv)\n",
    "\n",
    "combined_csv['event_array'] = combined_csv['event_array'].apply(json.loads)\n",
    "combined_csv"
   ]
  },
  {
   "cell_type": "code",
   "execution_count": 5,
   "metadata": {
    "pycharm": {
     "is_executing": false
    }
   },
   "outputs": [
    {
     "data": {
      "text/plain": "                                               method  \\\n0   <newsrepublic.RepresentativeTests: void testSe...   \n1   <newsrepublic.RepresentativeTests: void testDe...   \n2   <newsrepublic.RepresentativeTests: void testAd...   \n3   <newsrepublic.RepresentativeTests: void testRe...   \n4   <newsrepublic.RepresentativeTests: void testAc...   \n..                                                ...   \n6   <buzzfeed.RepresentativeTests: void testAccoun...   \n7   <buzzfeed.RepresentativeTests: void testCatego...   \n8   <buzzfeed.RepresentativeTests: void testContac...   \n9     <buzzfeed.RepresentativeTests: void testMenu()>   \n10   <buzzfeed.RepresentativeTests: void testTerms()>   \n\n                                          event_array  \n0   [{'input': None, 'id_or_xpath': 'id@com.mobile...  \n1   [{'input': None, 'id_or_xpath': 'id@com.mobile...  \n2   [{'input': None, 'id_or_xpath': 'id@com.mobile...  \n3   [{'input': None, 'id_or_xpath': 'id@com.mobile...  \n4   [{'input': None, 'id_or_xpath': 'xpath@/hierar...  \n..                                                ...  \n6   [{'input': None, 'id_or_xpath': 'id@com.buzzfe...  \n7   [{'input': None, 'id_or_xpath': 'xpath@/hierar...  \n8   [{'input': None, 'id_or_xpath': 'id@com.buzzfe...  \n9   [{'input': None, 'id_or_xpath': 'id@com.buzzfe...  \n10  [{'input': None, 'id_or_xpath': 'id@com.buzzfe...  \n\n[102 rows x 2 columns]",
      "text/html": "<div>\n<style scoped>\n    .dataframe tbody tr th:only-of-type {\n        vertical-align: middle;\n    }\n\n    .dataframe tbody tr th {\n        vertical-align: top;\n    }\n\n    .dataframe thead th {\n        text-align: right;\n    }\n</style>\n<table border=\"1\" class=\"dataframe\">\n  <thead>\n    <tr style=\"text-align: right;\">\n      <th></th>\n      <th>method</th>\n      <th>event_array</th>\n    </tr>\n  </thead>\n  <tbody>\n    <tr>\n      <th>0</th>\n      <td>&lt;newsrepublic.RepresentativeTests: void testSe...</td>\n      <td>[{'input': None, 'id_or_xpath': 'id@com.mobile...</td>\n    </tr>\n    <tr>\n      <th>1</th>\n      <td>&lt;newsrepublic.RepresentativeTests: void testDe...</td>\n      <td>[{'input': None, 'id_or_xpath': 'id@com.mobile...</td>\n    </tr>\n    <tr>\n      <th>2</th>\n      <td>&lt;newsrepublic.RepresentativeTests: void testAd...</td>\n      <td>[{'input': None, 'id_or_xpath': 'id@com.mobile...</td>\n    </tr>\n    <tr>\n      <th>3</th>\n      <td>&lt;newsrepublic.RepresentativeTests: void testRe...</td>\n      <td>[{'input': None, 'id_or_xpath': 'id@com.mobile...</td>\n    </tr>\n    <tr>\n      <th>4</th>\n      <td>&lt;newsrepublic.RepresentativeTests: void testAc...</td>\n      <td>[{'input': None, 'id_or_xpath': 'xpath@/hierar...</td>\n    </tr>\n    <tr>\n      <th>...</th>\n      <td>...</td>\n      <td>...</td>\n    </tr>\n    <tr>\n      <th>6</th>\n      <td>&lt;buzzfeed.RepresentativeTests: void testAccoun...</td>\n      <td>[{'input': None, 'id_or_xpath': 'id@com.buzzfe...</td>\n    </tr>\n    <tr>\n      <th>7</th>\n      <td>&lt;buzzfeed.RepresentativeTests: void testCatego...</td>\n      <td>[{'input': None, 'id_or_xpath': 'xpath@/hierar...</td>\n    </tr>\n    <tr>\n      <th>8</th>\n      <td>&lt;buzzfeed.RepresentativeTests: void testContac...</td>\n      <td>[{'input': None, 'id_or_xpath': 'id@com.buzzfe...</td>\n    </tr>\n    <tr>\n      <th>9</th>\n      <td>&lt;buzzfeed.RepresentativeTests: void testMenu()&gt;</td>\n      <td>[{'input': None, 'id_or_xpath': 'id@com.buzzfe...</td>\n    </tr>\n    <tr>\n      <th>10</th>\n      <td>&lt;buzzfeed.RepresentativeTests: void testTerms()&gt;</td>\n      <td>[{'input': None, 'id_or_xpath': 'id@com.buzzfe...</td>\n    </tr>\n  </tbody>\n</table>\n<p>102 rows × 2 columns</p>\n</div>"
     },
     "metadata": {},
     "output_type": "execute_result",
     "execution_count": 5
    }
   ],
   "source": [
    "ground_truth_tests = [read_csv(path, header=0) for path in glob.glob(\"/Users/yixue/Documents/Research/FrUITeR/Develop/ProcessedTest_CSV/news/*.csv\")]\n",
    "ground_truth_tests = pd.concat(ground_truth_tests)\n",
    "ground_truth_tests['event_array'] = ground_truth_tests['event_array'].apply(json.loads)\n",
    "ground_truth_tests"
   ]
  },
  {
   "cell_type": "code",
   "execution_count": 6,
   "metadata": {
    "pycharm": {
     "is_executing": false
    }
   },
   "outputs": [],
   "source": [
    "def evaluate_accuracy(test):\n",
    "    ground_truth_source = read_csv(\"ground_truth_mapping/news/GT_\" + test['source'] + \".csv\")\n",
    "    ground_truth_target = read_csv(\"ground_truth_mapping/news/GT_\" + test['target'] + \".csv\")\n",
    "    \n",
    "    source_test = ground_truth_tests.loc[ground_truth_tests['method'] == test['method']]\n",
    "    if source_test.shape[0] != 1:\n",
    "        print(source_test, 'is not 1')\n",
    "    \n",
    "    for gui_event, source_gui_event in zip(test['event_array'], source_test.iloc[0]['event_array']):\n",
    "        if source_gui_event['id_or_xpath'][:3] == \"id@\":\n",
    "            source_event = ground_truth_source.loc[ground_truth_source['id'] == source_gui_event['id_or_xpath'][3:]]\n",
    "        else:\n",
    "            source_event = ground_truth_source.loc[ground_truth_source['xpath'] == source_gui_event['id_or_xpath'][6:]]\n",
    "        if source_event.shape[0] == 0:\n",
    "            print('L84 gt missing for', source_gui_event, 'check if it should be added')\n",
    "        if pd.isnull(gui_event['id_or_xpath']) or gui_event['id_or_xpath'] == '': \n",
    "            # this is a sanity check\n",
    "            # if not transferred to any event, it should be marked as NONE\n",
    "            print('missed is not marked as NONE', gui_event)\n",
    "        if gui_event['id_or_xpath'] != \"NONE\": # check correct or incorrect\n",
    "            if gui_event['id_or_xpath'][:3] == \"id@\":\n",
    "                transfer_event = ground_truth_target.loc[ground_truth_target['id'] == gui_event['id_or_xpath'][3:]]\n",
    "            else:\n",
    "                transfer_event = ground_truth_target.loc[ground_truth_target['xpath'] == gui_event['id_or_xpath'][6:]]\n",
    "            if transfer_event.shape[0] == 0:\n",
    "                print('L95 gt missing for', gui_event, 'check if it should be added')\n",
    "                gui_event['case'] = \"incorrect\"\n",
    "                # print(\"transfer_event\", test['source'], test['target'], test['gui_mapper'])\n",
    "                # print(test['method'])\n",
    "                # print(gui_event['id_or_xpath'])\n",
    "            elif transfer_event.iloc[0]['canonical'] == source_event.iloc[0]['canonical']:\n",
    "                gui_event['case'] = \"correct\"\n",
    "            else:\n",
    "                gui_event['case'] = \"incorrect\"\n",
    "\n",
    "        else: # check miss or nonExist\n",
    "            target_event = ground_truth_target.loc[ground_truth_target['canonical'] == source_event.iloc[0]['canonical']]\n",
    "            if target_event.shape[0] != 0:\n",
    "                gui_event['case'] = \"missed\"\n",
    "            else:\n",
    "                gui_event['case'] = \"nonExist\"\n",
    "                \n",
    "    return test"
   ]
  },
  {
   "cell_type": "code",
   "execution_count": 7,
   "metadata": {
    "pycharm": {
     "is_executing": false
    }
   },
   "outputs": [],
   "source": [
    "def list_cases(test):\n",
    "    cases = {'correct' : [], 'incorrect' : [], 'missed' : [], 'nonExist' : []}\n",
    "    for gui_event in test:\n",
    "        cases[gui_event['case']].append(gui_event['id_or_xpath'])\n",
    "    return cases"
   ]
  },
  {
   "cell_type": "code",
   "execution_count": 8,
   "metadata": {
    "pycharm": {
     "is_executing": false
    }
   },
   "outputs": [],
   "source": [
    "def evaluate_effectiveness(test):\n",
    "    transfer_events = set([gui_event['id_or_xpath'] for gui_event in test['event_array']])\n",
    "    # the appnames in the source/target fields are different from what was specified in the test cases\n",
    "    # source_app = app_name_mapping[test['source']]\n",
    "    # target_app = app_name_mapping[test['target']]\n",
    "    source_app = test['source']\n",
    "    target_app = test['target']\n",
    "    target_method = test['method'].replace(source_app, target_app)\n",
    "    \n",
    "    target_test = ground_truth_tests.loc[ground_truth_tests['method'] == target_method]\n",
    "    if target_test.shape[0] == 0:\n",
    "        # print('L135 target method not found: ', target_method)\n",
    "        target_events = set()\n",
    "    elif target_test.shape[0] > 1:\n",
    "        print('L138 multiple target test found: ', target_method )\n",
    "    else:\n",
    "        target_events = set([gui_event['id_or_xpath'] for gui_event in target_test.iloc[0]['event_array']])\n",
    "    \n",
    "    cases= {}\n",
    "    cases['TP'] = transfer_events & target_events\n",
    "    cases['FP'] = transfer_events - target_events\n",
    "    cases['FN'] = target_events - transfer_events\n",
    "                \n",
    "    return cases"
   ]
  },
  {
   "cell_type": "code",
   "execution_count": 9,
   "metadata": {
    "pycharm": {
     "is_executing": false
    }
   },
   "outputs": [],
   "source": [
    "def count_cases(test):\n",
    "    cases = {}\n",
    "    cases['num_correct'] = len(test['correct'])\n",
    "    cases['num_incorrect'] = len(test['incorrect'])\n",
    "    cases['num_missed'] = len(test['missed'])\n",
    "    cases['num_nonExist'] = len(test['nonExist'])\n",
    "    # cases['num_TP'] = len(test['TP'])\n",
    "    # cases['num_FP'] = len(test['FP'])\n",
    "    # cases['num_FN'] = len(test['FN'])\n",
    "    return cases"
   ]
  },
  {
   "cell_type": "code",
   "execution_count": 10,
   "metadata": {
    "pycharm": {
     "is_executing": false
    }
   },
   "outputs": [],
   "source": [
    "def calc_precision_recall_accuracy(test):\n",
    "    fractions = {}\n",
    "    try:\n",
    "        fractions['accuracy_precision'] = test['num_correct'] / (test['num_correct'] + test['num_incorrect'])\n",
    "    except ZeroDivisionError:\n",
    "        fractions['accuracy_precision'] = np.NaN\n",
    "    try:\n",
    "        fractions['accuracy_recall'] = test['num_correct'] / (test['num_correct'] + test['num_missed'])\n",
    "    except ZeroDivisionError:\n",
    "        fractions['accuracy_recall'] = np.NaN\n",
    "    try:\n",
    "        fractions['accuracy'] = (test['num_correct'] + test['num_nonExist']) / \\\n",
    "                                (test['num_correct'] + test['num_incorrect'] + test['num_missed'] + test['num_nonExist'])\n",
    "    except ZeroDivisionError:\n",
    "        fractions['accuracy'] = np.NaN\n",
    "    # try:\n",
    "    #     fractions['effectiveness_precision'] = test['num_TP'] / (test['num_TP'] + test['num_FP'])\n",
    "    # except ZeroDivisionError:\n",
    "    #     fractions['effectiveness_precision'] = np.NaN\n",
    "    # try:\n",
    "    #     fractions['effectiveness_recall'] = test['num_TP'] / (test['num_TP'] + test['num_FN'])\n",
    "    # except ZeroDivisionError:\n",
    "    #     fractions['effectiveness_recall'] = np.NaN\n",
    "    return fractions\n"
   ]
  },
  {
   "cell_type": "code",
   "execution_count": 14,
   "metadata": {
    "pycharm": {
     "is_executing": false
    }
   },
   "outputs": [
    {
     "traceback": [
      "\u001b[0;31m---------------------------------------------------------------------------\u001b[0m",
      "\u001b[0;31mTypeError\u001b[0m                                 Traceback (most recent call last)",
      "\u001b[0;32m<ipython-input-14-b54d488ff07d>\u001b[0m in \u001b[0;36m<module>\u001b[0;34m\u001b[0m\n\u001b[0;32m----> 1\u001b[0;31m \u001b[0mcombined_csv\u001b[0m \u001b[0;34m=\u001b[0m \u001b[0mcombined_csv\u001b[0m\u001b[0;34m.\u001b[0m\u001b[0mapply\u001b[0m\u001b[0;34m(\u001b[0m\u001b[0mevaluate_accuracy\u001b[0m\u001b[0;34m,\u001b[0m \u001b[0maxis\u001b[0m\u001b[0;34m=\u001b[0m\u001b[0;36m1\u001b[0m\u001b[0;34m)\u001b[0m\u001b[0;34m\u001b[0m\u001b[0;34m\u001b[0m\u001b[0m\n\u001b[0m\u001b[1;32m      2\u001b[0m \u001b[0mcombined_csv\u001b[0m \u001b[0;34m=\u001b[0m \u001b[0mpd\u001b[0m\u001b[0;34m.\u001b[0m\u001b[0mconcat\u001b[0m\u001b[0;34m(\u001b[0m\u001b[0;34m[\u001b[0m\u001b[0mcombined_csv\u001b[0m\u001b[0;34m,\u001b[0m \u001b[0mcombined_csv\u001b[0m\u001b[0;34m[\u001b[0m\u001b[0;34m'event_array'\u001b[0m\u001b[0;34m]\u001b[0m\u001b[0;34m.\u001b[0m\u001b[0mapply\u001b[0m\u001b[0;34m(\u001b[0m\u001b[0mlist_cases\u001b[0m\u001b[0;34m)\u001b[0m\u001b[0;34m.\u001b[0m\u001b[0mapply\u001b[0m\u001b[0;34m(\u001b[0m\u001b[0mpd\u001b[0m\u001b[0;34m.\u001b[0m\u001b[0mSeries\u001b[0m\u001b[0;34m)\u001b[0m\u001b[0;34m]\u001b[0m\u001b[0;34m,\u001b[0m \u001b[0maxis\u001b[0m\u001b[0;34m=\u001b[0m\u001b[0;36m1\u001b[0m\u001b[0;34m)\u001b[0m\u001b[0;34m\u001b[0m\u001b[0;34m\u001b[0m\u001b[0m\n\u001b[1;32m      3\u001b[0m \u001b[0mcombined_csv\u001b[0m \u001b[0;34m=\u001b[0m \u001b[0mpd\u001b[0m\u001b[0;34m.\u001b[0m\u001b[0mconcat\u001b[0m\u001b[0;34m(\u001b[0m\u001b[0;34m[\u001b[0m\u001b[0mcombined_csv\u001b[0m\u001b[0;34m,\u001b[0m \u001b[0mcombined_csv\u001b[0m\u001b[0;34m.\u001b[0m\u001b[0mapply\u001b[0m\u001b[0;34m(\u001b[0m\u001b[0mevaluate_effectiveness\u001b[0m\u001b[0;34m,\u001b[0m \u001b[0maxis\u001b[0m\u001b[0;34m=\u001b[0m\u001b[0;36m1\u001b[0m\u001b[0;34m)\u001b[0m\u001b[0;34m.\u001b[0m\u001b[0mapply\u001b[0m\u001b[0;34m(\u001b[0m\u001b[0mpd\u001b[0m\u001b[0;34m.\u001b[0m\u001b[0mSeries\u001b[0m\u001b[0;34m)\u001b[0m\u001b[0;34m]\u001b[0m\u001b[0;34m,\u001b[0m \u001b[0maxis\u001b[0m\u001b[0;34m=\u001b[0m\u001b[0;36m1\u001b[0m\u001b[0;34m)\u001b[0m\u001b[0;34m\u001b[0m\u001b[0;34m\u001b[0m\u001b[0m\n\u001b[1;32m      4\u001b[0m \u001b[0mcombined_csv\u001b[0m \u001b[0;34m=\u001b[0m \u001b[0mpd\u001b[0m\u001b[0;34m.\u001b[0m\u001b[0mconcat\u001b[0m\u001b[0;34m(\u001b[0m\u001b[0;34m[\u001b[0m\u001b[0mcombined_csv\u001b[0m\u001b[0;34m,\u001b[0m \u001b[0mcombined_csv\u001b[0m\u001b[0;34m.\u001b[0m\u001b[0mapply\u001b[0m\u001b[0;34m(\u001b[0m\u001b[0mcount_cases\u001b[0m\u001b[0;34m,\u001b[0m \u001b[0maxis\u001b[0m\u001b[0;34m=\u001b[0m\u001b[0;36m1\u001b[0m\u001b[0;34m)\u001b[0m\u001b[0;34m.\u001b[0m\u001b[0mapply\u001b[0m\u001b[0;34m(\u001b[0m\u001b[0mpd\u001b[0m\u001b[0;34m.\u001b[0m\u001b[0mSeries\u001b[0m\u001b[0;34m)\u001b[0m\u001b[0;34m]\u001b[0m\u001b[0;34m,\u001b[0m \u001b[0maxis\u001b[0m\u001b[0;34m=\u001b[0m\u001b[0;36m1\u001b[0m\u001b[0;34m)\u001b[0m\u001b[0;34m\u001b[0m\u001b[0;34m\u001b[0m\u001b[0m\n\u001b[1;32m      5\u001b[0m \u001b[0mcombined_csv\u001b[0m \u001b[0;34m=\u001b[0m \u001b[0mpd\u001b[0m\u001b[0;34m.\u001b[0m\u001b[0mconcat\u001b[0m\u001b[0;34m(\u001b[0m\u001b[0;34m[\u001b[0m\u001b[0mcombined_csv\u001b[0m\u001b[0;34m,\u001b[0m \u001b[0mcombined_csv\u001b[0m\u001b[0;34m.\u001b[0m\u001b[0mapply\u001b[0m\u001b[0;34m(\u001b[0m\u001b[0mcalc_precision_recall_accuracy\u001b[0m\u001b[0;34m,\u001b[0m \u001b[0maxis\u001b[0m\u001b[0;34m=\u001b[0m\u001b[0;36m1\u001b[0m\u001b[0;34m)\u001b[0m\u001b[0;34m.\u001b[0m\u001b[0mapply\u001b[0m\u001b[0;34m(\u001b[0m\u001b[0mpd\u001b[0m\u001b[0;34m.\u001b[0m\u001b[0mSeries\u001b[0m\u001b[0;34m)\u001b[0m\u001b[0;34m]\u001b[0m\u001b[0;34m,\u001b[0m \u001b[0maxis\u001b[0m\u001b[0;34m=\u001b[0m\u001b[0;36m1\u001b[0m\u001b[0;34m)\u001b[0m\u001b[0;34m\u001b[0m\u001b[0;34m\u001b[0m\u001b[0m\n",
      "\u001b[0;32m~/.conda/envs/TestAnalyzer/lib/python3.7/site-packages/pandas/core/frame.py\u001b[0m in \u001b[0;36mapply\u001b[0;34m(self, func, axis, raw, result_type, args, **kwds)\u001b[0m\n\u001b[1;32m   6873\u001b[0m             \u001b[0mkwds\u001b[0m\u001b[0;34m=\u001b[0m\u001b[0mkwds\u001b[0m\u001b[0;34m,\u001b[0m\u001b[0;34m\u001b[0m\u001b[0;34m\u001b[0m\u001b[0m\n\u001b[1;32m   6874\u001b[0m         )\n\u001b[0;32m-> 6875\u001b[0;31m         \u001b[0;32mreturn\u001b[0m \u001b[0mop\u001b[0m\u001b[0;34m.\u001b[0m\u001b[0mget_result\u001b[0m\u001b[0;34m(\u001b[0m\u001b[0;34m)\u001b[0m\u001b[0;34m\u001b[0m\u001b[0;34m\u001b[0m\u001b[0m\n\u001b[0m\u001b[1;32m   6876\u001b[0m \u001b[0;34m\u001b[0m\u001b[0m\n\u001b[1;32m   6877\u001b[0m     \u001b[0;32mdef\u001b[0m \u001b[0mapplymap\u001b[0m\u001b[0;34m(\u001b[0m\u001b[0mself\u001b[0m\u001b[0;34m,\u001b[0m \u001b[0mfunc\u001b[0m\u001b[0;34m)\u001b[0m \u001b[0;34m->\u001b[0m \u001b[0;34m\"DataFrame\"\u001b[0m\u001b[0;34m:\u001b[0m\u001b[0;34m\u001b[0m\u001b[0;34m\u001b[0m\u001b[0m\n",
      "\u001b[0;32m~/.conda/envs/TestAnalyzer/lib/python3.7/site-packages/pandas/core/apply.py\u001b[0m in \u001b[0;36mget_result\u001b[0;34m(self)\u001b[0m\n\u001b[1;32m    184\u001b[0m             \u001b[0;32mreturn\u001b[0m \u001b[0mself\u001b[0m\u001b[0;34m.\u001b[0m\u001b[0mapply_raw\u001b[0m\u001b[0;34m(\u001b[0m\u001b[0;34m)\u001b[0m\u001b[0;34m\u001b[0m\u001b[0;34m\u001b[0m\u001b[0m\n\u001b[1;32m    185\u001b[0m \u001b[0;34m\u001b[0m\u001b[0m\n\u001b[0;32m--> 186\u001b[0;31m         \u001b[0;32mreturn\u001b[0m \u001b[0mself\u001b[0m\u001b[0;34m.\u001b[0m\u001b[0mapply_standard\u001b[0m\u001b[0;34m(\u001b[0m\u001b[0;34m)\u001b[0m\u001b[0;34m\u001b[0m\u001b[0;34m\u001b[0m\u001b[0m\n\u001b[0m\u001b[1;32m    187\u001b[0m \u001b[0;34m\u001b[0m\u001b[0m\n\u001b[1;32m    188\u001b[0m     \u001b[0;32mdef\u001b[0m \u001b[0mapply_empty_result\u001b[0m\u001b[0;34m(\u001b[0m\u001b[0mself\u001b[0m\u001b[0;34m)\u001b[0m\u001b[0;34m:\u001b[0m\u001b[0;34m\u001b[0m\u001b[0;34m\u001b[0m\u001b[0m\n",
      "\u001b[0;32m~/.conda/envs/TestAnalyzer/lib/python3.7/site-packages/pandas/core/apply.py\u001b[0m in \u001b[0;36mapply_standard\u001b[0;34m(self)\u001b[0m\n\u001b[1;32m    294\u001b[0m             \u001b[0;32mtry\u001b[0m\u001b[0;34m:\u001b[0m\u001b[0;34m\u001b[0m\u001b[0;34m\u001b[0m\u001b[0m\n\u001b[1;32m    295\u001b[0m                 result = libreduction.compute_reduction(\n\u001b[0;32m--> 296\u001b[0;31m                     \u001b[0mvalues\u001b[0m\u001b[0;34m,\u001b[0m \u001b[0mself\u001b[0m\u001b[0;34m.\u001b[0m\u001b[0mf\u001b[0m\u001b[0;34m,\u001b[0m \u001b[0maxis\u001b[0m\u001b[0;34m=\u001b[0m\u001b[0mself\u001b[0m\u001b[0;34m.\u001b[0m\u001b[0maxis\u001b[0m\u001b[0;34m,\u001b[0m \u001b[0mdummy\u001b[0m\u001b[0;34m=\u001b[0m\u001b[0mdummy\u001b[0m\u001b[0;34m,\u001b[0m \u001b[0mlabels\u001b[0m\u001b[0;34m=\u001b[0m\u001b[0mlabels\u001b[0m\u001b[0;34m\u001b[0m\u001b[0;34m\u001b[0m\u001b[0m\n\u001b[0m\u001b[1;32m    297\u001b[0m                 )\n\u001b[1;32m    298\u001b[0m             \u001b[0;32mexcept\u001b[0m \u001b[0mValueError\u001b[0m \u001b[0;32mas\u001b[0m \u001b[0merr\u001b[0m\u001b[0;34m:\u001b[0m\u001b[0;34m\u001b[0m\u001b[0;34m\u001b[0m\u001b[0m\n",
      "\u001b[0;32mpandas/_libs/reduction.pyx\u001b[0m in \u001b[0;36mpandas._libs.reduction.compute_reduction\u001b[0;34m()\u001b[0m\n",
      "\u001b[0;32mpandas/_libs/reduction.pyx\u001b[0m in \u001b[0;36mpandas._libs.reduction.Reducer.get_result\u001b[0;34m()\u001b[0m\n",
      "\u001b[0;32m<ipython-input-6-5203ad4f97e8>\u001b[0m in \u001b[0;36mevaluate_accuracy\u001b[0;34m(test)\u001b[0m\n\u001b[1;32m     14\u001b[0m         \u001b[0;32mif\u001b[0m \u001b[0msource_event\u001b[0m\u001b[0;34m.\u001b[0m\u001b[0mshape\u001b[0m\u001b[0;34m[\u001b[0m\u001b[0;36m0\u001b[0m\u001b[0;34m]\u001b[0m \u001b[0;34m==\u001b[0m \u001b[0;36m0\u001b[0m\u001b[0;34m:\u001b[0m\u001b[0;34m\u001b[0m\u001b[0;34m\u001b[0m\u001b[0m\n\u001b[1;32m     15\u001b[0m             \u001b[0mprint\u001b[0m\u001b[0;34m(\u001b[0m\u001b[0;34m'L84 gt missing for'\u001b[0m\u001b[0;34m,\u001b[0m \u001b[0msource_gui_event\u001b[0m\u001b[0;34m,\u001b[0m \u001b[0;34m'check if it should be added'\u001b[0m\u001b[0;34m)\u001b[0m\u001b[0;34m\u001b[0m\u001b[0;34m\u001b[0m\u001b[0m\n\u001b[0;32m---> 16\u001b[0;31m         \u001b[0;32mif\u001b[0m \u001b[0mpd\u001b[0m\u001b[0;34m.\u001b[0m\u001b[0misnull\u001b[0m\u001b[0;34m(\u001b[0m\u001b[0mgui_event\u001b[0m\u001b[0;34m[\u001b[0m\u001b[0;34m'id_or_xpath'\u001b[0m\u001b[0;34m]\u001b[0m\u001b[0;34m)\u001b[0m \u001b[0;32mor\u001b[0m \u001b[0mgui_event\u001b[0m\u001b[0;34m[\u001b[0m\u001b[0;34m'id_or_xpath'\u001b[0m\u001b[0;34m]\u001b[0m \u001b[0;34m==\u001b[0m \u001b[0;34m''\u001b[0m\u001b[0;34m:\u001b[0m\u001b[0;34m\u001b[0m\u001b[0;34m\u001b[0m\u001b[0m\n\u001b[0m\u001b[1;32m     17\u001b[0m             \u001b[0;31m# this is a sanity check\u001b[0m\u001b[0;34m\u001b[0m\u001b[0;34m\u001b[0m\u001b[0;34m\u001b[0m\u001b[0m\n\u001b[1;32m     18\u001b[0m             \u001b[0;31m# if not transferred to any event, it should be marked as NONE\u001b[0m\u001b[0;34m\u001b[0m\u001b[0;34m\u001b[0m\u001b[0;34m\u001b[0m\u001b[0m\n",
      "\u001b[0;31mTypeError\u001b[0m: string indices must be integers"
     ],
     "ename": "TypeError",
     "evalue": "string indices must be integers",
     "output_type": "error"
    }
   ],
   "source": [
    "combined_csv = combined_csv.apply(evaluate_accuracy, axis=1)\n",
    "combined_csv = pd.concat([combined_csv, combined_csv['event_array'].apply(list_cases).apply(pd.Series)], axis=1)\n",
    "combined_csv = pd.concat([combined_csv, combined_csv.apply(evaluate_effectiveness, axis=1).apply(pd.Series)], axis=1)\n",
    "combined_csv = pd.concat([combined_csv, combined_csv.apply(count_cases, axis=1).apply(pd.Series)], axis=1)\n",
    "combined_csv = pd.concat([combined_csv, combined_csv.apply(calc_precision_recall_accuracy, axis=1).apply(pd.Series)], axis=1)\n",
    "\n",
    "# combined_csv = pd.concat([combined_csv, combined_csv.apply(append_src_gt_events, axis=1).apply(pd.Series)], axis=1)\n",
    "combined_csv['event_array'] = combined_csv['event_array'].apply(json.dumps)\n",
    "combined_csv = pd.concat([combined_csv, combined_csv.apply(levenshtein, axis=1).apply(pd.Series)], axis=1)\n",
    "combined_csv"
   ]
  },
  {
   "cell_type": "code",
   "execution_count": 40,
   "metadata": {
    "pycharm": {
     "is_executing": false
    }
   },
   "outputs": [],
   "source": [
    "# combined_csv['event_array'] = combined_csv['event_array'].apply(json.dumps)\n",
    "combined_csv.to_csv(\"/Users/yixue/Documents/Research/FrUITeR/Results/framework_results_news.csv\")"
   ]
  },
  {
   "cell_type": "code",
   "execution_count": 34,
   "metadata": {
    "pycharm": {
     "is_executing": false
    }
   },
   "outputs": [],
   "source": [
    "def append_src_gt_events(test):\n",
    "    events = {}\n",
    "    # add src events\n",
    "    src_events = ground_truth_tests.loc[ground_truth_tests['method'] == test['method']]\n",
    "    if src_events.shape[0] == 1:\n",
    "        events['src_events'] = [gui_event['id_or_xpath'] for gui_event in src_events.iloc[0]['event_array']]\n",
    "    else:\n",
    "        print('src events len is not 1, check: ', test['method'])\n",
    "    # add gt events\n",
    "    # source_app = app_name_mapping[test['source']]\n",
    "    # target_app = app_name_mapping[test['target']]\n",
    "    source_app = test['source']\n",
    "    target_app = test['target']\n",
    "    target_method = test['method'].replace(source_app, target_app)\n",
    "    gt_test = ground_truth_tests.loc[ground_truth_tests['method'] == target_method]\n",
    "    if gt_test.shape[0] == 1:\n",
    "        events['gt_events'] = [gui_event['id_or_xpath'] for gui_event in gt_test.iloc[0]['event_array']]\n",
    "    else:\n",
    "        if gt_test.shape[0] > 1:\n",
    "            print('gt events len > 1, check: ', target_method)    \n",
    "            print(gt_test.shape)\n",
    "            print(gt_test)\n",
    "    return events"
   ]
  },
  {
   "cell_type": "code",
   "execution_count": 11,
   "metadata": {
    "pycharm": {
     "is_executing": false,
     "name": "#%%\n"
    }
   },
   "outputs": [
    {
     "data": {
      "text/plain": "{'5miles': 'FiveMiles',\n '6pm': 'SixPM',\n 'aliexpress': 'AliExpress',\n 'ebay': 'Ebay',\n 'etsy': 'Etsy',\n 'geek': 'Geek',\n 'googleshopping': 'GoogleExpress',\n 'groupon': 'Groupon',\n 'home': 'Home',\n 'wish': 'Wish'}"
     },
     "metadata": {},
     "output_type": "execute_result",
     "execution_count": 11
    }
   ],
   "source": [
    "# app_name_mapping = {}\n",
    "# app_name_mapping['5miles'] = 'FiveMiles'\n",
    "# app_name_mapping['6pm'] = 'SixPM'\n",
    "# app_name_mapping['aliexpress'] = 'AliExpress'\n",
    "# app_name_mapping['ebay'] = 'Ebay'\n",
    "# app_name_mapping['etsy'] = 'Etsy'\n",
    "# app_name_mapping['geek'] = 'Geek'\n",
    "# app_name_mapping['googleshopping'] = 'GoogleExpress'\n",
    "# app_name_mapping['groupon'] = 'Groupon'\n",
    "# app_name_mapping['home'] = 'Home'\n",
    "# app_name_mapping['wish'] = 'Wish'\n",
    "# app_name_mapping\n"
   ]
  },
  {
   "cell_type": "code",
   "execution_count": 13,
   "metadata": {
    "pycharm": {
     "is_executing": false,
     "name": "#%%\n"
    }
   },
   "outputs": [],
   "source": [
    "from lxml import etree\n",
    "\n",
    "def get_classname_from_xpath(xpath):\n",
    "    return xpath.split('//')[1].split('[')[0]\n",
    "\n",
    "\n",
    "def get_attribute_from_xpath(xpath):\n",
    "    if '\"\"' in xpath:\n",
    "        xpath = xpath.replace('\"\"', '\"')\n",
    "    return xpath[xpath.find(\"[\") + 1:xpath.find(\"]\")]\n",
    "\n",
    "def find_node_by_xpath(xpath, app):\n",
    "    directory = '/Users/yixue/Documents/Research/FrUITeR/Develop/TestBenchmark-Jave-client/screenshots/news/' + \\\n",
    "                app + '/'\n",
    "    # print('find node for xpath', xpath, 'in app', app)\n",
    "    for filename in os.listdir(directory):\n",
    "        if filename.endswith(\".uix\"):\n",
    "            # print('check xpath in ', os.path.join(directory, filename))\n",
    "            tree = etree.parse(os.path.join(directory, filename))\n",
    "            root = tree.getroot()\n",
    "            if xpath.startswith('//'):  # relative xpath\n",
    "                class_name = get_classname_from_xpath(xpath)\n",
    "                attribute = get_attribute_from_xpath(xpath)\n",
    "                # print('//node[@class=\"'+class_name+'\"]['+attribute+']')\n",
    "                nodes = root.xpath('//node[@class=\"' + class_name + '\"][' + attribute + ']')\n",
    "                if len(nodes) != 0:\n",
    "                    # print('current node is ', etree.tostring(nodes[0]))\n",
    "                    return nodes[0]\n",
    "            elif xpath.startswith('/hierarchy'):  # absolute xpath\n",
    "                class_names = xpath.split('/')\n",
    "                # print(class_names)\n",
    "                current_node = root.xpath('/hierarchy')[0]\n",
    "                no_matching = False\n",
    "                for class_name in class_names:\n",
    "                    if class_name == '' or class_name == 'hierarchy':\n",
    "                        continue\n",
    "                    # print('.//node[@class=\"' + class_name +'\"]')\n",
    "                    if '[' in class_name:  # multiple children with same class name\n",
    "                        index = int(class_name[class_name.find(\"[\") + 1:class_name.find(\"]\")])\n",
    "                        class_name = class_name.split('[')[0]\n",
    "                        current_nodes = current_node.findall('./node[@class=\"' + class_name + '\"]')\n",
    "                        if current_nodes is None or index >= len(current_nodes):\n",
    "                            no_matching = True\n",
    "                            break\n",
    "                        else:\n",
    "                            current_node = current_nodes[index]\n",
    "                    else:  # only one child with same class name\n",
    "                        current_nodes = current_node.findall('./node[@class=\"' + class_name + '\"]')\n",
    "                        if current_nodes is None or len(current_nodes) == 0:\n",
    "                            no_matching = True\n",
    "                            break\n",
    "                        else:\n",
    "                            current_node = current_nodes[0]\n",
    "                if not no_matching:\n",
    "                    # print('current node is ', etree.tostring(current_node))\n",
    "                    return current_node\n",
    "    # print('current node is None')\n",
    "    return None\n",
    "\n",
    "# trans test format: json with \"input\", \"id_or_xpath\", \"action\", \"case\". 'id_or_xpath' could be 'NONE'\n",
    "# gt test format: 'id@...'/'xpath@...'\n",
    "def trans_equals_gt(trans_event, gt_event, tgt_app):\n",
    "    # when trans and gt use the same id or xpath\n",
    "    trans_id_or_xpath = trans_event['id_or_xpath'] \n",
    "    if gt_event == trans_id_or_xpath:\n",
    "        return True\n",
    "    if gt_event[:3] == \"id@\": # gt_event is based on resource-id\n",
    "        if trans_id_or_xpath[:3] == \"id@\":\n",
    "            return False\n",
    "        else: # gt uses id and trans uses xpath\n",
    "            return compare_id_xpath(gt_event[3:], trans_id_or_xpath[6:], tgt_app)\n",
    "    else: # gt_event is based on xpath\n",
    "        if trans_id_or_xpath[:3] == \"id@\": # trans uses id, gt uses xpath\n",
    "            return compare_id_xpath(trans_id_or_xpath[3:], gt_event[6:], tgt_app)\n",
    "        else: # both gt and trans use xpath. one could use absolute xpath and another one uses relevant xpath\n",
    "            gt_node = find_node_by_xpath(gt_event[6:], tgt_app)\n",
    "            trans_node = find_node_by_xpath(trans_id_or_xpath[6:], tgt_app)\n",
    "            return (gt_node == trans_node)\n",
    "\n",
    "def compare_id_xpath(id, xpath, app):\n",
    "    node = find_node_by_xpath(xpath, app) \n",
    "    if node is not None and id == node.get('resource-id'):\n",
    "        return True\n",
    "    return False\n",
    "\n",
    "# trans test format: json with \"input\", \"id_or_xpath\", \"action\", \"case\". 'id_or_xpath' could be 'NONE'\n",
    "# gt test format: 'id@...'/'xpath@...'\n",
    "# return the levenshtein distance\n",
    "def levenshtein(test):\n",
    "    transfer_seq = test['event_array']\n",
    "    gt_seq = test['gt_events']\n",
    "    result = {}\n",
    "    # if gt test doesn't exist in the target app, return NA\n",
    "    if type(gt_seq) is float and math.isnan(gt_seq):\n",
    "        # print(gt_seq)\n",
    "        result['distance'] = np.NaN\n",
    "        return result\n",
    "    \n",
    "    trans = copy.deepcopy(transfer_seq)\n",
    "    trans = json.loads(trans)\n",
    "    gt = copy.deepcopy(gt_seq)\n",
    "    \n",
    "    # delete 'NONE' events in order to calculate levenshtein distance correctly\n",
    "    # print('before trans = ', trans)\n",
    "    none_events = []\n",
    "    for event in trans:\n",
    "        if event['id_or_xpath'] == 'NONE':\n",
    "            none_events.append(event)\n",
    "    for event in none_events:\n",
    "        trans.remove(event)\n",
    "    print('trans = ', trans)\n",
    "    print('gt = ', gt)\n",
    "\n",
    "    size_x = len(trans) + 1\n",
    "    size_y = len(gt) + 1\n",
    "    matrix = np.zeros ((size_x, size_y))\n",
    "    for x in range(size_x):\n",
    "        matrix [x, 0] = x\n",
    "    for y in range(size_y):\n",
    "        matrix [0, y] = y\n",
    "\n",
    "    for x in range(1, size_x):\n",
    "        for y in range(1, size_y):\n",
    "            if trans_equals_gt(trans[x-1], gt[y-1], test['target']):\n",
    "                matrix [x,y] = min(\n",
    "                    matrix[x-1, y] + 1,\n",
    "                    matrix[x-1, y-1],\n",
    "                    matrix[x, y-1] + 1\n",
    "                )\n",
    "            else:\n",
    "                matrix [x,y] = min(\n",
    "                    matrix[x-1,y] + 1,\n",
    "                    matrix[x-1,y-1] + 1,\n",
    "                    matrix[x,y-1] + 1\n",
    "                )\n",
    "    # print (matrix)\n",
    "    print('distance = ', (matrix[size_x - 1, size_y - 1]))\n",
    "    result['distance'] =  (matrix[size_x - 1, size_y - 1])\n",
    "    return result"
   ]
  },
  {
   "cell_type": "code",
   "execution_count": null,
   "metadata": {},
   "outputs": [],
   "source": []
  }
 ],
 "metadata": {
  "kernelspec": {
   "display_name": "Python 3",
   "language": "python",
   "name": "python3"
  },
  "language_info": {
   "codemirror_mode": {
    "name": "ipython",
    "version": 3
   },
   "file_extension": ".py",
   "mimetype": "text/x-python",
   "name": "python",
   "nbconvert_exporter": "python",
   "pygments_lexer": "ipython3",
   "version": "3.7.6"
  },
  "pycharm": {
   "stem_cell": {
    "cell_type": "raw",
    "source": [],
    "metadata": {
     "collapsed": false
    }
   }
  }
 },
 "nbformat": 4,
 "nbformat_minor": 2
}