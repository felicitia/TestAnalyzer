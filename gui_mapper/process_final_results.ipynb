{
 "cells": [
  {
   "cell_type": "code",
   "execution_count": 6,
   "metadata": {
    "collapsed": true,
    "pycharm": {
     "is_executing": false
    }
   },
   "outputs": [],
   "source": [
    "\n",
    "import pandas as pd\n",
    "import numpy as np\n",
    "import glob, os\n",
    "import json\n",
    "import copy\n",
    "import math\n",
    "from pandas.io.parsers import read_csv"
   ]
  },
  {
   "cell_type": "code",
   "execution_count": 10,
   "metadata": {
    "pycharm": {
     "is_executing": false,
     "name": "#%%\n"
    }
   },
   "outputs": [],
   "source": [
    "# add utility metrics to final results to ATM mapper\n",
    "# atm_csv = read_csv(\"/Users/yixue/Documents/Research/FrUITeR/Results/ATM/atm.csv\")\n",
    "# atm_csv = pd.concat([atm_csv, atm_csv.apply(count_event_num_atm, axis=1).apply(pd.Series)], axis=1)\n",
    "# atm_csv = pd.concat([atm_csv, atm_csv.apply(calculate_utility_atm, axis=1).apply(pd.Series)], axis=1)\n",
    "# atm_csv\n",
    "# atm_csv.to_csv(\"/Users/yixue/Documents/Research/FrUITeR/Results/atm_shopping_final.csv\")\n",
    "\n",
    "# add utility metrics to final results of other mappers\n",
    "other_csv = read_csv(\"/Users/yixue/Documents/Research/FrUITeR/Results/framework_results.csv\")\n",
    "other_csv = pd.concat([other_csv, other_csv.apply(count_event_num_other, axis=1).apply(pd.Series)], axis=1)\n",
    "other_csv = pd.concat([other_csv, other_csv.apply(calculate_utility_other, axis=1).apply(pd.Series)], axis=1)\n",
    "# other_csv\n",
    "other_csv.to_csv(\"/Users/yixue/Documents/Research/FrUITeR/Results/other_shopping_final.csv\")\n",
    "\n"
   ]
  },
  {
   "cell_type": "code",
   "execution_count": 7,
   "outputs": [],
   "source": [
    "def clean_naive(data):\n",
    "    data = data.set_index(\"gui_mapper\")\n",
    "    data = data.drop(\"naive0\", axis=0)\n",
    "    data = data.drop(\"naive1\", axis=0)\n",
    "    data = data.drop(\"naive2\", axis=0)\n",
    "    data = data.drop(\"naive3\", axis=0)\n",
    "    data = data.drop(\"naive4\", axis=0)\n",
    "    data = data.drop(\"naive5\", axis=0)\n",
    "    data = data.drop(\"naive6\", axis=0)\n",
    "    data = data.drop(\"naive7\", axis=0)\n",
    "    data = data.drop(\"naive8\", axis=0)\n",
    "    return data\n",
    "\n",
    "def count_event_num_other(test):\n",
    "    num_events = {}\n",
    "    num_events['num_src'] = len(eval(test['src_events']))\n",
    "    transferred_json = json.loads(test['transferred'])\n",
    "    count = 0\n",
    "    for trans in transferred_json:\n",
    "        if trans['id_or_xpath'] != 'NONE':\n",
    "            count += 1\n",
    "    num_events['num_trans'] = count\n",
    "    if pd.isnull(test['gt_events']):\n",
    "        num_events['num_gt'] = np.NaN\n",
    "    else:\n",
    "        num_events['num_gt'] = len(eval(test['gt_events']))\n",
    "    return num_events\n",
    "\n",
    "def count_event_num_atm(test):\n",
    "    num_events = {}\n",
    "    num_events['num_src'] = len(eval(test['src_events']))\n",
    "    transferred_json = json.loads(test['transferred'])\n",
    "    count = 0\n",
    "    for trans in transferred_json:\n",
    "        if trans != {}:\n",
    "            count += 1\n",
    "    num_events['num_trans'] = count\n",
    "    num_events['num_gt'] = len(eval(test['gt_events']))\n",
    "    return num_events\n",
    "\n",
    "def calculate_utility_atm(test):\n",
    "    result = {}\n",
    "    if np.isnan(test['num_gt']):\n",
    "        result['reduction'] = np.NaN\n",
    "        return result\n",
    "    try:\n",
    "        result['reduction'] = (test['num_gt'] - test['distance']) / test['num_gt']\n",
    "    except ZeroDivisionError:\n",
    "        result['reduction'] = np.NaN\n",
    "    return result\n",
    "\n",
    "def calculate_utility_other(test):\n",
    "    result = {}\n",
    "    try:\n",
    "        result['reduction'] = (test['num_gt'] - test['distance']) / test['num_gt']\n",
    "    except ZeroDivisionError:\n",
    "        result['reduction'] = np.NaN\n",
    "    return result"
   ],
   "metadata": {
    "collapsed": false,
    "pycharm": {
     "name": "#%%\n",
     "is_executing": false
    }
   }
  },
  {
   "cell_type": "code",
   "execution_count": 11,
   "outputs": [],
   "source": [
    "# merge atm's results and others \n",
    "atm_csv = read_csv(\"/Users/yixue/Documents/Research/FrUITeR/Results/atm_shopping_final.csv\")\n",
    "other_csv = read_csv(\"/Users/yixue/Documents/Research/FrUITeR/Results/other_shopping_final.csv\") \n",
    "merged_csv = atm_csv.append(other_csv)\n",
    "# merged_csv\n",
    "merged_csv.to_csv(\"/Users/yixue/Documents/Research/FrUITeR/Results/shopping_all.csv\")\n"
   ],
   "metadata": {
    "collapsed": false,
    "pycharm": {
     "name": "#%%\n",
     "is_executing": false
    }
   }
  }
 ],
 "metadata": {
  "kernelspec": {
   "display_name": "Python 3",
   "language": "python",
   "name": "python3"
  },
  "language_info": {
   "codemirror_mode": {
    "name": "ipython",
    "version": 3
   },
   "file_extension": ".py",
   "mimetype": "text/x-python",
   "name": "python",
   "nbconvert_exporter": "python",
   "pygments_lexer": "ipython3",
   "version": "3.7.6"
  },
  "pycharm": {
   "stem_cell": {
    "cell_type": "raw",
    "source": [],
    "metadata": {
     "collapsed": false
    }
   }
  }
 },
 "nbformat": 4,
 "nbformat_minor": 1
}