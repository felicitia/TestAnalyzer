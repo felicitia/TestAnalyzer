{
 "cells": [
  {
   "cell_type": "markdown",
   "metadata": {},
   "source": [
    "# Result Generator Basic Prototype (Perfect)"
   ]
  },
  {
   "cell_type": "code",
   "execution_count": 1,
   "metadata": {},
   "outputs": [],
   "source": [
    "import pandas as pd\n",
    "import json\n",
    "from pandas.io.parsers import read_csv"
   ]
  },
  {
   "cell_type": "code",
   "execution_count": 2,
   "metadata": {},
   "outputs": [
    {
     "data": {
      "text/html": [
       "<div>\n",
       "<style scoped>\n",
       "    .dataframe tbody tr th:only-of-type {\n",
       "        vertical-align: middle;\n",
       "    }\n",
       "\n",
       "    .dataframe tbody tr th {\n",
       "        vertical-align: top;\n",
       "    }\n",
       "\n",
       "    .dataframe thead th {\n",
       "        text-align: right;\n",
       "    }\n",
       "</style>\n",
       "<table border=\"1\" class=\"dataframe\">\n",
       "  <thead>\n",
       "    <tr style=\"text-align: right;\">\n",
       "      <th></th>\n",
       "      <th>method</th>\n",
       "      <th>json</th>\n",
       "    </tr>\n",
       "  </thead>\n",
       "  <tbody>\n",
       "    <tr>\n",
       "      <th>0</th>\n",
       "      <td>&lt;Etsy.WelcomeTest: void testSignIn()&gt;</td>\n",
       "      <td>[{\"id_or_xpath\": \"NONE\", \"action\": \"click\"}, {...</td>\n",
       "    </tr>\n",
       "    <tr>\n",
       "      <th>1</th>\n",
       "      <td>&lt;Etsy.WelcomeTest: void testSignIn()&gt;</td>\n",
       "      <td>[{\"id_or_xpath\": \"NONE\", \"action\": \"click\"}, {...</td>\n",
       "    </tr>\n",
       "    <tr>\n",
       "      <th>2</th>\n",
       "      <td>&lt;Etsy.WelcomeTest: void testSignIn()&gt;</td>\n",
       "      <td>[{\"id_or_xpath\": \"NONE\", \"action\": \"click\"}, {...</td>\n",
       "    </tr>\n",
       "  </tbody>\n",
       "</table>\n",
       "</div>"
      ],
      "text/plain": [
       "                                  method  \\\n",
       "0  <Etsy.WelcomeTest: void testSignIn()>   \n",
       "1  <Etsy.WelcomeTest: void testSignIn()>   \n",
       "2  <Etsy.WelcomeTest: void testSignIn()>   \n",
       "\n",
       "                                                json  \n",
       "0  [{\"id_or_xpath\": \"NONE\", \"action\": \"click\"}, {...  \n",
       "1  [{\"id_or_xpath\": \"NONE\", \"action\": \"click\"}, {...  \n",
       "2  [{\"id_or_xpath\": \"NONE\", \"action\": \"click\"}, {...  "
      ]
     },
     "execution_count": 2,
     "metadata": {},
     "output_type": "execute_result"
    }
   ],
   "source": [
    "perfect_csv = read_csv(\"perfect_out.csv\")\n",
    "perfect_csv"
   ]
  },
  {
   "cell_type": "code",
   "execution_count": 3,
   "metadata": {},
   "outputs": [],
   "source": [
    "perfect_csv['json'] = perfect_csv['json'].apply(json.loads)"
   ]
  },
  {
   "cell_type": "code",
   "execution_count": 4,
   "metadata": {},
   "outputs": [
    {
     "data": {
      "text/plain": [
       "dict"
      ]
     },
     "execution_count": 4,
     "metadata": {},
     "output_type": "execute_result"
    }
   ],
   "source": [
    "type(perfect_csv['json'][0][2])"
   ]
  },
  {
   "cell_type": "code",
   "execution_count": 5,
   "metadata": {},
   "outputs": [],
   "source": [
    "def generate_result(test):\n",
    "    for gui_event in test:\n",
    "        if gui_event['id_or_xpath'] == \"NONE\":\n",
    "            gui_event['case'] = \"nonExist\"\n",
    "        else:\n",
    "            gui_event['case'] = \"correct\"\n",
    "    return test"
   ]
  },
  {
   "cell_type": "code",
   "execution_count": 6,
   "metadata": {},
   "outputs": [
    {
     "data": {
      "text/plain": [
       "[{'id_or_xpath': 'NONE', 'action': 'click', 'case': 'nonExist'},\n",
       " {'id_or_xpath': 'NONE', 'action': 'click', 'case': 'nonExist'},\n",
       " {'id_or_xpath': 'com.contextlogic.wish:id/sign_in_fragment_email_text',\n",
       "  'input': 'aaa',\n",
       "  'action': 'sendKeys',\n",
       "  'case': 'correct'},\n",
       " {'id_or_xpath': 'com.contextlogic.wish:id/sign_in_fragment_password_text',\n",
       "  'input': 'bbb',\n",
       "  'action': 'sendKeys',\n",
       "  'case': 'correct'},\n",
       " {'id_or_xpath': 'com.contextlogic.wish:id/sign_in_fragment_sign_in_button',\n",
       "  'action': 'click',\n",
       "  'case': 'correct'}]"
      ]
     },
     "execution_count": 6,
     "metadata": {},
     "output_type": "execute_result"
    }
   ],
   "source": [
    "perfect_csv['json'] = perfect_csv['json'].apply(generate_result)\n",
    "perfect_csv['json'][0]"
   ]
  },
  {
   "cell_type": "code",
   "execution_count": 7,
   "metadata": {},
   "outputs": [],
   "source": [
    "def list_cases(test):\n",
    "    cases = {'correct' : [], 'nonExist' : []}\n",
    "    for gui_event in test:\n",
    "        cases[gui_event['case']].append(gui_event['id_or_xpath'])\n",
    "    return cases"
   ]
  },
  {
   "cell_type": "code",
   "execution_count": 8,
   "metadata": {},
   "outputs": [
    {
     "data": {
      "text/html": [
       "<div>\n",
       "<style scoped>\n",
       "    .dataframe tbody tr th:only-of-type {\n",
       "        vertical-align: middle;\n",
       "    }\n",
       "\n",
       "    .dataframe tbody tr th {\n",
       "        vertical-align: top;\n",
       "    }\n",
       "\n",
       "    .dataframe thead th {\n",
       "        text-align: right;\n",
       "    }\n",
       "</style>\n",
       "<table border=\"1\" class=\"dataframe\">\n",
       "  <thead>\n",
       "    <tr style=\"text-align: right;\">\n",
       "      <th></th>\n",
       "      <th>method</th>\n",
       "      <th>json</th>\n",
       "      <th>correct</th>\n",
       "      <th>nonExist</th>\n",
       "    </tr>\n",
       "  </thead>\n",
       "  <tbody>\n",
       "    <tr>\n",
       "      <th>0</th>\n",
       "      <td>&lt;Etsy.WelcomeTest: void testSignIn()&gt;</td>\n",
       "      <td>[{'id_or_xpath': 'NONE', 'action': 'click', 'c...</td>\n",
       "      <td>[com.contextlogic.wish:id/sign_in_fragment_ema...</td>\n",
       "      <td>[NONE, NONE]</td>\n",
       "    </tr>\n",
       "    <tr>\n",
       "      <th>1</th>\n",
       "      <td>&lt;Etsy.WelcomeTest: void testSignIn()&gt;</td>\n",
       "      <td>[{'id_or_xpath': 'NONE', 'action': 'click', 'c...</td>\n",
       "      <td>[com.contextlogic.wish:id/sign_in_fragment_ema...</td>\n",
       "      <td>[NONE, NONE]</td>\n",
       "    </tr>\n",
       "    <tr>\n",
       "      <th>2</th>\n",
       "      <td>&lt;Etsy.WelcomeTest: void testSignIn()&gt;</td>\n",
       "      <td>[{'id_or_xpath': 'NONE', 'action': 'click', 'c...</td>\n",
       "      <td>[com.contextlogic.wish:id/sign_in_fragment_ema...</td>\n",
       "      <td>[NONE, NONE]</td>\n",
       "    </tr>\n",
       "  </tbody>\n",
       "</table>\n",
       "</div>"
      ],
      "text/plain": [
       "                                  method  \\\n",
       "0  <Etsy.WelcomeTest: void testSignIn()>   \n",
       "1  <Etsy.WelcomeTest: void testSignIn()>   \n",
       "2  <Etsy.WelcomeTest: void testSignIn()>   \n",
       "\n",
       "                                                json  \\\n",
       "0  [{'id_or_xpath': 'NONE', 'action': 'click', 'c...   \n",
       "1  [{'id_or_xpath': 'NONE', 'action': 'click', 'c...   \n",
       "2  [{'id_or_xpath': 'NONE', 'action': 'click', 'c...   \n",
       "\n",
       "                                             correct      nonExist  \n",
       "0  [com.contextlogic.wish:id/sign_in_fragment_ema...  [NONE, NONE]  \n",
       "1  [com.contextlogic.wish:id/sign_in_fragment_ema...  [NONE, NONE]  \n",
       "2  [com.contextlogic.wish:id/sign_in_fragment_ema...  [NONE, NONE]  "
      ]
     },
     "execution_count": 8,
     "metadata": {},
     "output_type": "execute_result"
    }
   ],
   "source": [
    "output0 = pd.concat([perfect_csv, perfect_csv['json'].apply(list_cases).apply(pd.Series)], axis=1)\n",
    "output0"
   ]
  },
  {
   "cell_type": "code",
   "execution_count": 9,
   "metadata": {},
   "outputs": [],
   "source": [
    "def count_cases(test):\n",
    "    cases = {}\n",
    "    cases['# correct'] = len(test['correct'])\n",
    "    cases['# nonExist'] = len(test['nonExist'])\n",
    "    return cases"
   ]
  },
  {
   "cell_type": "code",
   "execution_count": 10,
   "metadata": {},
   "outputs": [
    {
     "data": {
      "text/html": [
       "<div>\n",
       "<style scoped>\n",
       "    .dataframe tbody tr th:only-of-type {\n",
       "        vertical-align: middle;\n",
       "    }\n",
       "\n",
       "    .dataframe tbody tr th {\n",
       "        vertical-align: top;\n",
       "    }\n",
       "\n",
       "    .dataframe thead th {\n",
       "        text-align: right;\n",
       "    }\n",
       "</style>\n",
       "<table border=\"1\" class=\"dataframe\">\n",
       "  <thead>\n",
       "    <tr style=\"text-align: right;\">\n",
       "      <th></th>\n",
       "      <th>method</th>\n",
       "      <th>json</th>\n",
       "      <th>correct</th>\n",
       "      <th>nonExist</th>\n",
       "      <th># correct</th>\n",
       "      <th># nonExist</th>\n",
       "    </tr>\n",
       "  </thead>\n",
       "  <tbody>\n",
       "    <tr>\n",
       "      <th>0</th>\n",
       "      <td>&lt;Etsy.WelcomeTest: void testSignIn()&gt;</td>\n",
       "      <td>[{'id_or_xpath': 'NONE', 'action': 'click', 'c...</td>\n",
       "      <td>[com.contextlogic.wish:id/sign_in_fragment_ema...</td>\n",
       "      <td>[NONE, NONE]</td>\n",
       "      <td>3</td>\n",
       "      <td>2</td>\n",
       "    </tr>\n",
       "    <tr>\n",
       "      <th>1</th>\n",
       "      <td>&lt;Etsy.WelcomeTest: void testSignIn()&gt;</td>\n",
       "      <td>[{'id_or_xpath': 'NONE', 'action': 'click', 'c...</td>\n",
       "      <td>[com.contextlogic.wish:id/sign_in_fragment_ema...</td>\n",
       "      <td>[NONE, NONE]</td>\n",
       "      <td>3</td>\n",
       "      <td>2</td>\n",
       "    </tr>\n",
       "    <tr>\n",
       "      <th>2</th>\n",
       "      <td>&lt;Etsy.WelcomeTest: void testSignIn()&gt;</td>\n",
       "      <td>[{'id_or_xpath': 'NONE', 'action': 'click', 'c...</td>\n",
       "      <td>[com.contextlogic.wish:id/sign_in_fragment_ema...</td>\n",
       "      <td>[NONE, NONE]</td>\n",
       "      <td>3</td>\n",
       "      <td>2</td>\n",
       "    </tr>\n",
       "  </tbody>\n",
       "</table>\n",
       "</div>"
      ],
      "text/plain": [
       "                                  method  \\\n",
       "0  <Etsy.WelcomeTest: void testSignIn()>   \n",
       "1  <Etsy.WelcomeTest: void testSignIn()>   \n",
       "2  <Etsy.WelcomeTest: void testSignIn()>   \n",
       "\n",
       "                                                json  \\\n",
       "0  [{'id_or_xpath': 'NONE', 'action': 'click', 'c...   \n",
       "1  [{'id_or_xpath': 'NONE', 'action': 'click', 'c...   \n",
       "2  [{'id_or_xpath': 'NONE', 'action': 'click', 'c...   \n",
       "\n",
       "                                             correct      nonExist  # correct  \\\n",
       "0  [com.contextlogic.wish:id/sign_in_fragment_ema...  [NONE, NONE]          3   \n",
       "1  [com.contextlogic.wish:id/sign_in_fragment_ema...  [NONE, NONE]          3   \n",
       "2  [com.contextlogic.wish:id/sign_in_fragment_ema...  [NONE, NONE]          3   \n",
       "\n",
       "   # nonExist  \n",
       "0           2  \n",
       "1           2  \n",
       "2           2  "
      ]
     },
     "execution_count": 10,
     "metadata": {},
     "output_type": "execute_result"
    }
   ],
   "source": [
    "output = pd.concat([output0, output0.apply(count_cases, axis=1).apply(pd.Series)], axis=1)\n",
    "output"
   ]
  }
 ],
 "metadata": {
  "kernelspec": {
   "display_name": "Python 3",
   "language": "python",
   "name": "python3"
  },
  "language_info": {
   "codemirror_mode": {
    "name": "ipython",
    "version": 3
   },
   "file_extension": ".py",
   "mimetype": "text/x-python",
   "name": "python",
   "nbconvert_exporter": "python",
   "pygments_lexer": "ipython3",
   "version": "3.6.7"
  }
 },
 "nbformat": 4,
 "nbformat_minor": 2
}
