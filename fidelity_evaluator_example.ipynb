{
 "cells": [
  {
   "cell_type": "code",
   "execution_count": 1,
   "metadata": {
    "pycharm": {
     "is_executing": false
    }
   },
   "outputs": [
    {
     "name": "stdout",
     "text": [
      "Done! Check the output file in /output/craftdroid_fidelity.csv\n"
     ],
     "output_type": "stream"
    }
   ],
   "source": [
    "import pandas as pd\n",
    "import numpy as np\n",
    "import glob, os\n",
    "import json\n",
    "\n",
    "from pandas.io.parsers import read_csv\n",
    "\n",
    "def evaluate_accuracy(test):\n",
    "    ground_truth_source = read_csv(\"input/ground_truth_mapping/shopping/GT_\" + test['source'] + \".csv\")\n",
    "    ground_truth_target = read_csv(\"input/ground_truth_mapping/shopping/GT_\" + test['target'] + \".csv\")\n",
    "    \n",
    "    source_test = ground_truth_tests.loc[ground_truth_tests['method'] == test['method']]\n",
    "    if source_test.shape[0] != 1:\n",
    "        print(source_test, 'is not 1')\n",
    "    \n",
    "    for gui_event, source_gui_event in zip(test['event_array'], source_test.iloc[0]['event_array']):\n",
    "        if source_gui_event['id_or_xpath'][:3] == \"id@\":\n",
    "            source_event = ground_truth_source.loc[ground_truth_source['id'] == source_gui_event['id_or_xpath'][3:]]\n",
    "        else:\n",
    "            source_event = ground_truth_source.loc[ground_truth_source['xpath'] == source_gui_event['id_or_xpath'][6:]]\n",
    "        if source_event.shape[0] == 0:\n",
    "            print('L84 gt missing for', source_gui_event, 'check if it should be added')\n",
    "        if pd.isnull(gui_event['id_or_xpath']) or gui_event['id_or_xpath'] == '': \n",
    "            # this is a sanity check\n",
    "            # if not transferred to any event, it should be marked as NONE\n",
    "            print('missed is not marked as NONE', gui_event)\n",
    "        if gui_event['id_or_xpath'] != \"NONE\": # check correct or incorrect\n",
    "            if gui_event['id_or_xpath'][:3] == \"id@\":\n",
    "                transfer_event = ground_truth_target.loc[ground_truth_target['id'] == gui_event['id_or_xpath'][3:]]\n",
    "            else:\n",
    "                transfer_event = ground_truth_target.loc[ground_truth_target['xpath'] == gui_event['id_or_xpath'][6:]]\n",
    "            if transfer_event.shape[0] == 0:\n",
    "                # print('L95 gt missing for', gui_event, 'check if it should be added')\n",
    "                gui_event['case'] = \"incorrect\"\n",
    "                # print(\"transfer_event\", test['source'], test['target'], test['gui_mapper'])\n",
    "                # print(test['method'])\n",
    "                # print(gui_event['id_or_xpath'])\n",
    "            elif transfer_event.iloc[0]['canonical'] == source_event.iloc[0]['canonical']:\n",
    "                gui_event['case'] = \"correct\"\n",
    "            else:\n",
    "                gui_event['case'] = \"incorrect\"\n",
    "\n",
    "        else: # check miss or nonExist\n",
    "            target_event = ground_truth_target.loc[ground_truth_target['canonical'] == source_event.iloc[0]['canonical']]\n",
    "            if target_event.shape[0] != 0:\n",
    "                gui_event['case'] = \"missed\"\n",
    "            else:\n",
    "                gui_event['case'] = \"nonExist\"\n",
    "                \n",
    "    return test\n",
    "\n",
    "def list_cases(test):\n",
    "    cases = {'correct' : [], 'incorrect' : [], 'missed' : [], 'nonExist' : []}\n",
    "    for gui_event in test:\n",
    "        cases[gui_event['case']].append(gui_event['id_or_xpath'])\n",
    "    return cases\n",
    "\n",
    "def count_cases(test):\n",
    "    cases = {}\n",
    "    cases['num_correct'] = len(test['correct'])\n",
    "    cases['num_incorrect'] = len(test['incorrect'])\n",
    "    cases['num_missed'] = len(test['missed'])\n",
    "    cases['num_nonExist'] = len(test['nonExist'])\n",
    "    return cases\n",
    "\n",
    "def calc_precision_recall_accuracy(test):\n",
    "    fractions = {}\n",
    "    try:\n",
    "        fractions['accuracy_precision'] = test['num_correct'] / (test['num_correct'] + test['num_incorrect'])\n",
    "    except ZeroDivisionError:\n",
    "        fractions['accuracy_precision'] = np.NaN\n",
    "    try:\n",
    "        fractions['accuracy_recall'] = test['num_correct'] / (test['num_correct'] + test['num_missed'])\n",
    "    except ZeroDivisionError:\n",
    "        fractions['accuracy_recall'] = np.NaN\n",
    "    try:\n",
    "        fractions['accuracy'] = (test['num_correct'] + test['num_nonExist']) / \\\n",
    "                                (test['num_correct'] + test['num_incorrect'] + test['num_missed'] + test['num_nonExist'])\n",
    "    except ZeroDivisionError:\n",
    "        fractions['accuracy'] = np.NaN\n",
    "    return fractions\n",
    "\n",
    "\n",
    "# using CraftDroid as an example\n",
    "craftdroid_csv = []\n",
    "for path in glob.glob(\"input/craftdroid/mapping_results/*.csv\"):\n",
    "    csv = read_csv(path)\n",
    "    apps = os.path.splitext(os.path.basename(path))[0].split(\"_\")\n",
    "    csv['source'] = csv.apply(lambda x: apps[0], axis=1)\n",
    "    csv['target'] = csv.apply(lambda x: apps[1], axis=1)\n",
    "    csv['gui_mapper'] = csv.apply(lambda x: \"craftdroid\", axis=1)\n",
    "    craftdroid_csv.append(csv)\n",
    "combined_csv = pd.concat(craftdroid_csv)\n",
    "combined_csv['event_array'] = combined_csv['event_array'].apply(json.loads)\n",
    "\n",
    "ground_truth_tests = [read_csv(path, header=0) for path in glob.glob(\"input/extracted_tests/craftdroid_tests/*.csv\")]\n",
    "ground_truth_tests = pd.concat(ground_truth_tests)\n",
    "ground_truth_tests['event_array'] = ground_truth_tests['event_array'].apply(json.loads)\n",
    "\n",
    "\n",
    "combined_csv = combined_csv.apply(evaluate_accuracy, axis=1)\n",
    "combined_csv = pd.concat([combined_csv, combined_csv['event_array'].apply(list_cases).apply(pd.Series)], axis=1)\n",
    "# combined_csv = pd.concat([combined_csv, combined_csv.apply(evaluate_effectiveness, axis=1).apply(pd.Series)], axis=1)\n",
    "combined_csv = pd.concat([combined_csv, combined_csv.apply(count_cases, axis=1).apply(pd.Series)], axis=1)\n",
    "combined_csv = pd.concat([combined_csv, combined_csv.apply(calc_precision_recall_accuracy, axis=1).apply(pd.Series)], axis=1)\n",
    "# \n",
    "# combined_csv = pd.concat([combined_csv, combined_csv.apply(append_src_gt_events, axis=1).apply(pd.Series)], axis=1)\n",
    "combined_csv['event_array'] = combined_csv['event_array'].apply(json.dumps)\n",
    "# combined_csv = pd.concat([combined_csv, combined_csv.apply(levenshtein, axis=1).apply(pd.Series)], axis=1)\n",
    "combined_csv.to_csv(\"output/craftdroid_fidelity.csv\", index=False)\n",
    "print('Done! Check the output file in /output/craftdroid_fidelity.csv')"
   ]
  },
  {
   "cell_type": "code",
   "execution_count": null,
   "metadata": {},
   "outputs": [],
   "source": []
  }
 ],
 "metadata": {
  "kernelspec": {
   "display_name": "Python 3",
   "language": "python",
   "name": "python3"
  },
  "language_info": {
   "codemirror_mode": {
    "name": "ipython",
    "version": 3
   },
   "file_extension": ".py",
   "mimetype": "text/x-python",
   "name": "python",
   "nbconvert_exporter": "python",
   "pygments_lexer": "ipython3",
   "version": "3.7.6"
  },
  "pycharm": {
   "stem_cell": {
    "cell_type": "raw",
    "source": [],
    "metadata": {
     "collapsed": false
    }
   }
  }
 },
 "nbformat": 4,
 "nbformat_minor": 1
}